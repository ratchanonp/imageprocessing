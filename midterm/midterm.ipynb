{
 "cells": [
  {
   "cell_type": "code",
   "execution_count": 10,
   "metadata": {},
   "outputs": [],
   "source": [
    "import math\n",
    "import numpy as np\n",
    "import cv2 as cv"
   ]
  },
  {
   "cell_type": "code",
   "execution_count": 5,
   "metadata": {},
   "outputs": [],
   "source": [
    "def bitconversion(original):\n",
    "\n",
    "    result = []\n",
    "\n",
    "    for i in range(len(original)):\n",
    "        result_row = []\n",
    "        for j in range(len(original[i])):\n",
    "            new = math.floor(original[i][j] / (256 // 8))\n",
    "            result_row.append(new)\n",
    "\n",
    "        result.append(result_row)\n",
    "\n",
    "    return result"
   ]
  },
  {
   "cell_type": "code",
   "execution_count": 11,
   "metadata": {},
   "outputs": [
    {
     "name": "stdout",
     "output_type": "stream",
     "text": [
      "  6   6   6   1   1   6   6   6   6 \n",
      "  6   6   6   1   3   1   6   6   6 \n",
      "  1   1   1   1   3   3   1   6   6 \n",
      "  1   3   3   3   3   6   3   1   6 \n",
      "  1   3   6   6   6   6   6   3   1 \n",
      "  1   3   3   3   3   6   3   1   6 \n",
      "  1   1   1   1   3   3   1   6   6 \n",
      "  6   6   6   1   3   1   6   6   6 \n",
      "  6   6   6   1   1   6   6   6   6 \n"
     ]
    },
    {
     "data": {
      "text/plain": [
       "True"
      ]
     },
     "execution_count": 11,
     "metadata": {},
     "output_type": "execute_result"
    }
   ],
   "source": [
    "original = [\n",
    "    [220, 192, 210, 32, 58, 222, 199, 194, 213],\n",
    "    [196, 203, 220, 60, 96, 57, 193, 208, 221],\n",
    "    [62, 56, 37, 55, 115, 107, 60, 195, 217],\n",
    "    [33, 96, 108, 123, 127, 194, 98, 45, 209],\n",
    "    [49, 117, 223, 198, 213, 192, 221, 117, 51],\n",
    "    [60, 105, 99, 124, 108, 203, 126, 39, 198],\n",
    "    [55, 44, 39, 60, 97, 121, 63, 222, 211],\n",
    "    [193, 215, 207, 62, 100, 50, 194, 199, 206],\n",
    "    [204, 220, 196, 59, 47, 203, 194, 217, 202]\n",
    "]\n",
    "\n",
    "result = bitconversion(original)\n",
    "\n",
    "\n",
    "for i in range(len(result)):\n",
    "    for j in range(len(result[i])):\n",
    "        print(f\"{result[i][j]:3d}\", end=\" \")\n",
    "    print()\n",
    "\n",
    "\n",
    "result = np.array(result)\n",
    "result = result * (256 // 8)\n",
    "\n",
    "cv.imwrite(\"result.png\", result)"
   ]
  },
  {
   "cell_type": "code",
   "execution_count": 12,
   "metadata": {},
   "outputs": [
    {
     "data": {
      "text/plain": [
       "True"
      ]
     },
     "execution_count": 12,
     "metadata": {},
     "output_type": "execute_result"
    }
   ],
   "source": [
    "cv.imwrite(\"original.png\", np.array(original))"
   ]
  },
  {
   "cell_type": "code",
   "execution_count": null,
   "metadata": {},
   "outputs": [],
   "source": []
  }
 ],
 "metadata": {
  "kernelspec": {
   "display_name": "py311",
   "language": "python",
   "name": "python3"
  },
  "language_info": {
   "codemirror_mode": {
    "name": "ipython",
    "version": 3
   },
   "file_extension": ".py",
   "mimetype": "text/x-python",
   "name": "python",
   "nbconvert_exporter": "python",
   "pygments_lexer": "ipython3",
   "version": "3.11.5"
  },
  "orig_nbformat": 4
 },
 "nbformat": 4,
 "nbformat_minor": 2
}
