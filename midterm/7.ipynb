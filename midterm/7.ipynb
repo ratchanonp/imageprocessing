{
 "cells": [
  {
   "cell_type": "code",
   "execution_count": 8,
   "metadata": {},
   "outputs": [],
   "source": [
    "import numpy as np\n",
    "import cv2"
   ]
  },
  {
   "cell_type": "code",
   "execution_count": 3,
   "metadata": {},
   "outputs": [],
   "source": [
    "original = [\n",
    "    [15, 15, 15, 15, 15, 15, 15],\n",
    "    [15, 0, 10, 10, 8, 11, 15],\n",
    "    [15, 4, 15, 9, 15, 15, 15],\n",
    "    [15, 4, 12, 10, 14, 15, 15],\n",
    "    [15, 4, 15, 9, 15, 15, 15],\n",
    "    [15, 0, 2, 2, 0, 11, 15],\n",
    "    [15, 15, 15, 15, 15, 15, 15],\n",
    "]\n",
    "\n",
    "original = np.array(original)"
   ]
  },
  {
   "cell_type": "code",
   "execution_count": 4,
   "metadata": {},
   "outputs": [],
   "source": [
    "L = 15\n",
    "\n",
    "negatives = 15 - original"
   ]
  },
  {
   "cell_type": "code",
   "execution_count": 5,
   "metadata": {},
   "outputs": [
    {
     "data": {
      "text/plain": [
       "array([[ 0,  0,  0,  0,  0,  0,  0],\n",
       "       [ 0, 15,  5,  5,  7,  4,  0],\n",
       "       [ 0, 11,  0,  6,  0,  0,  0],\n",
       "       [ 0, 11,  3,  5,  1,  0,  0],\n",
       "       [ 0, 11,  0,  6,  0,  0,  0],\n",
       "       [ 0, 15, 13, 13, 15,  4,  0],\n",
       "       [ 0,  0,  0,  0,  0,  0,  0]])"
      ]
     },
     "execution_count": 5,
     "metadata": {},
     "output_type": "execute_result"
    }
   ],
   "source": [
    "negatives"
   ]
  },
  {
   "cell_type": "code",
   "execution_count": 6,
   "metadata": {},
   "outputs": [],
   "source": [
    "def bitplane_slice(img, bit):\n",
    "    return (img >> bit) & 1"
   ]
  },
  {
   "cell_type": "code",
   "execution_count": 7,
   "metadata": {},
   "outputs": [
    {
     "data": {
      "text/plain": [
       "[array([[0, 0, 0, 0, 0, 0, 0],\n",
       "        [0, 1, 1, 1, 1, 0, 0],\n",
       "        [0, 1, 0, 0, 0, 0, 0],\n",
       "        [0, 1, 1, 1, 1, 0, 0],\n",
       "        [0, 1, 0, 0, 0, 0, 0],\n",
       "        [0, 1, 1, 1, 1, 0, 0],\n",
       "        [0, 0, 0, 0, 0, 0, 0]]),\n",
       " array([[0, 0, 0, 0, 0, 0, 0],\n",
       "        [0, 1, 0, 0, 1, 0, 0],\n",
       "        [0, 1, 0, 1, 0, 0, 0],\n",
       "        [0, 1, 1, 0, 0, 0, 0],\n",
       "        [0, 1, 0, 1, 0, 0, 0],\n",
       "        [0, 1, 0, 0, 1, 0, 0],\n",
       "        [0, 0, 0, 0, 0, 0, 0]]),\n",
       " array([[0, 0, 0, 0, 0, 0, 0],\n",
       "        [0, 1, 1, 1, 1, 1, 0],\n",
       "        [0, 0, 0, 1, 0, 0, 0],\n",
       "        [0, 0, 0, 1, 0, 0, 0],\n",
       "        [0, 0, 0, 1, 0, 0, 0],\n",
       "        [0, 1, 1, 1, 1, 1, 0],\n",
       "        [0, 0, 0, 0, 0, 0, 0]]),\n",
       " array([[0, 0, 0, 0, 0, 0, 0],\n",
       "        [0, 1, 0, 0, 0, 0, 0],\n",
       "        [0, 1, 0, 0, 0, 0, 0],\n",
       "        [0, 1, 0, 0, 0, 0, 0],\n",
       "        [0, 1, 0, 0, 0, 0, 0],\n",
       "        [0, 1, 1, 1, 1, 0, 0],\n",
       "        [0, 0, 0, 0, 0, 0, 0]])]"
      ]
     },
     "execution_count": 7,
     "metadata": {},
     "output_type": "execute_result"
    }
   ],
   "source": [
    "planes = [bitplane_slice(negatives, i) for i in range(4)]\n",
    "\n",
    "planes"
   ]
  },
  {
   "cell_type": "code",
   "execution_count": 9,
   "metadata": {},
   "outputs": [
    {
     "data": {
      "text/plain": [
       "True"
      ]
     },
     "execution_count": 9,
     "metadata": {},
     "output_type": "execute_result"
    }
   ],
   "source": [
    "cv2.imwrite('7-1.png', planes[0] * 255)\n",
    "cv2.imwrite('7-2.png', planes[1] * 255)\n",
    "cv2.imwrite('7-3.png', planes[2] * 255)\n",
    "cv2.imwrite('7-4.png', planes[3] * 255)"
   ]
  },
  {
   "cell_type": "code",
   "execution_count": null,
   "metadata": {},
   "outputs": [],
   "source": []
  }
 ],
 "metadata": {
  "kernelspec": {
   "display_name": "py311",
   "language": "python",
   "name": "python3"
  },
  "language_info": {
   "codemirror_mode": {
    "name": "ipython",
    "version": 3
   },
   "file_extension": ".py",
   "mimetype": "text/x-python",
   "name": "python",
   "nbconvert_exporter": "python",
   "pygments_lexer": "ipython3",
   "version": "3.11.5"
  },
  "orig_nbformat": 4
 },
 "nbformat": 4,
 "nbformat_minor": 2
}
