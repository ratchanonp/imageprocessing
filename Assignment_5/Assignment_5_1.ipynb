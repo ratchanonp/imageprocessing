{
 "cells": [
  {
   "cell_type": "code",
   "execution_count": 43,
   "metadata": {},
   "outputs": [],
   "source": [
    "import cv2 as cv\n",
    "import numpy as np\n",
    "import matplotlib.pyplot as plt\n",
    "import os\n",
    "import math"
   ]
  },
  {
   "cell_type": "code",
   "execution_count": 44,
   "metadata": {},
   "outputs": [],
   "source": [
    "# Write A function to create complementary color image\n",
    "def complementary_color_RGB(img):\n",
    "    # Split the image into three channels\n",
    "    b, g, r = cv.split(img)\n",
    "\n",
    "    b = cv.bitwise_not(b)\n",
    "    g = cv.bitwise_not(g)\n",
    "    r = cv.bitwise_not(r)\n",
    "\n",
    "    # Merge the three channels\n",
    "    img = cv.merge([b, g, r])\n",
    "\n",
    "    return img"
   ]
  },
  {
   "cell_type": "code",
   "execution_count": 45,
   "metadata": {},
   "outputs": [],
   "source": [
    "def complementary_color_HSI(img):\n",
    "    h, s, i = img[:, :, 0], img[:, :, 1], img[:, :, 2]\n",
    "\n",
    "    h = (h + 0.5) % 1.0\n",
    "\n",
    "    return np.dstack((h, s, i))"
   ]
  },
  {
   "cell_type": "code",
   "execution_count": 46,
   "metadata": {},
   "outputs": [],
   "source": [
    "def convertRGB2HSI(img):\n",
    "\n",
    "    # Convert RGB to HSI\n",
    "    width, height, channel = img.shape\n",
    "\n",
    "    # Create a new image\n",
    "    new_img = np.zeros((width, height, channel), dtype=np.float64)\n",
    "\n",
    "    for i in range(width):\n",
    "        for j in range(height):\n",
    "            # Get RGB value\n",
    "            red, green, blue = img[i, j, 2], img[i, j, 1], img[i, j, 0]\n",
    "            red, green, blue = red / 255.0, green / 255.0, blue / 255.0\n",
    "\n",
    "            # Convert RGB to HSI\n",
    "            intensity = max([red, green, blue])\n",
    "            delta = intensity - min([red, green, blue])\n",
    "\n",
    "            if intensity == 0:\n",
    "                saturation = 0\n",
    "                hue = 0\n",
    "            elif delta == 0:\n",
    "                saturation = 0\n",
    "                hue = 0\n",
    "            else:\n",
    "                saturation = delta / intensity\n",
    "\n",
    "                hue = 0\n",
    "                if red == intensity:\n",
    "                    hue = (1.0/6.0) * (green - blue) / delta\n",
    "                elif green == intensity:\n",
    "                    hue = (1.0/6.0) * (2.0 + ((blue - red) / delta))\n",
    "                elif blue == intensity:\n",
    "                    hue = (1.0/6.0) * (4.0 + ((red - green) / delta))\n",
    "\n",
    "            new_img[i, j, 0] = hue\n",
    "            new_img[i, j, 1] = saturation\n",
    "            new_img[i, j, 2] = intensity\n",
    "\n",
    "    return new_img"
   ]
  },
  {
   "cell_type": "code",
   "execution_count": 47,
   "metadata": {},
   "outputs": [],
   "source": [
    "def convertHSI2RGB(img):\n",
    "\n",
    "    # Convert HSI to RGB\n",
    "    width, height, channel = img.shape\n",
    "\n",
    "    # Create a new image\n",
    "    new_img = np.zeros((width, height, channel), dtype=np.uint8)\n",
    "\n",
    "    for i in range(width):\n",
    "        for j in range(height):\n",
    "            # Get HSI value\n",
    "            hue, saturation, intensity = img[i, j]\n",
    "\n",
    "            r, g, b = 0, 0, 0\n",
    "\n",
    "            H_prime = math.floor(hue * 6)\n",
    "            F = (hue * 6) - H_prime\n",
    "            P = intensity * (1 - saturation)\n",
    "            Q = intensity * (1 - (F * saturation))\n",
    "            T = intensity * (1 - ((1 - F) * saturation))\n",
    "\n",
    "            if H_prime == 0:\n",
    "                r = intensity\n",
    "                g = T\n",
    "                b = P\n",
    "            elif H_prime == 1:\n",
    "                r = Q\n",
    "                g = intensity\n",
    "                b = P\n",
    "            elif H_prime == 2:\n",
    "                r = P\n",
    "                g = intensity\n",
    "                b = T\n",
    "            elif H_prime == 3:\n",
    "                r = P\n",
    "                g = Q\n",
    "                b = intensity\n",
    "            elif H_prime == 4:\n",
    "                r = T\n",
    "                g = P\n",
    "                b = intensity\n",
    "            elif H_prime == 5:\n",
    "                r = intensity\n",
    "                g = P\n",
    "                b = Q\n",
    "\n",
    "            new_img[i, j] = [r * 255, g * 255, b * 255]\n",
    "\n",
    "    return new_img"
   ]
  },
  {
   "cell_type": "code",
   "execution_count": 48,
   "metadata": {},
   "outputs": [
    {
     "name": "stdout",
     "output_type": "stream",
     "text": [
      "Original image\n",
      "[183  65   3]\n"
     ]
    },
    {
     "ename": "ValueError",
     "evalue": "could not broadcast input array from shape (765,) into shape (3,)",
     "output_type": "error",
     "traceback": [
      "\u001b[0;31m---------------------------------------------------------------------------\u001b[0m",
      "\u001b[0;31mValueError\u001b[0m                                Traceback (most recent call last)",
      "\u001b[1;32m/Users/ratchanon/IMAGE_PROCESSING/Assignment_5/Assignment_5_1.ipynb Cell 6\u001b[0m line \u001b[0;36m1\n\u001b[1;32m     <a href='vscode-notebook-cell:/Users/ratchanon/IMAGE_PROCESSING/Assignment_5/Assignment_5_1.ipynb#W6sZmlsZQ%3D%3D?line=13'>14</a>\u001b[0m \u001b[39mprint\u001b[39m(fruit_rgb[\u001b[39m0\u001b[39m, \u001b[39m0\u001b[39m, :])\n\u001b[1;32m     <a href='vscode-notebook-cell:/Users/ratchanon/IMAGE_PROCESSING/Assignment_5/Assignment_5_1.ipynb#W6sZmlsZQ%3D%3D?line=15'>16</a>\u001b[0m fruit_hsi \u001b[39m=\u001b[39m convertRGB2HSI(fruit)\n\u001b[0;32m---> <a href='vscode-notebook-cell:/Users/ratchanon/IMAGE_PROCESSING/Assignment_5/Assignment_5_1.ipynb#W6sZmlsZQ%3D%3D?line=17'>18</a>\u001b[0m fruit_rgb \u001b[39m=\u001b[39m convertHSI2RGB(fruit_hsi)\n\u001b[1;32m     <a href='vscode-notebook-cell:/Users/ratchanon/IMAGE_PROCESSING/Assignment_5/Assignment_5_1.ipynb#W6sZmlsZQ%3D%3D?line=19'>20</a>\u001b[0m fig, ax \u001b[39m=\u001b[39m plt\u001b[39m.\u001b[39msubplots(\u001b[39m1\u001b[39m, \u001b[39m2\u001b[39m, figsize\u001b[39m=\u001b[39m(\u001b[39m10\u001b[39m, \u001b[39m10\u001b[39m))\n\u001b[1;32m     <a href='vscode-notebook-cell:/Users/ratchanon/IMAGE_PROCESSING/Assignment_5/Assignment_5_1.ipynb#W6sZmlsZQ%3D%3D?line=20'>21</a>\u001b[0m ax[\u001b[39m0\u001b[39m]\u001b[39m.\u001b[39mimshow(cv\u001b[39m.\u001b[39mcvtColor(fruit, cv\u001b[39m.\u001b[39mCOLOR_BGR2RGB))\n",
      "\u001b[1;32m/Users/ratchanon/IMAGE_PROCESSING/Assignment_5/Assignment_5_1.ipynb Cell 6\u001b[0m line \u001b[0;36m4\n\u001b[1;32m     <a href='vscode-notebook-cell:/Users/ratchanon/IMAGE_PROCESSING/Assignment_5/Assignment_5_1.ipynb#W6sZmlsZQ%3D%3D?line=43'>44</a>\u001b[0m             g \u001b[39m=\u001b[39m P\n\u001b[1;32m     <a href='vscode-notebook-cell:/Users/ratchanon/IMAGE_PROCESSING/Assignment_5/Assignment_5_1.ipynb#W6sZmlsZQ%3D%3D?line=44'>45</a>\u001b[0m             b \u001b[39m=\u001b[39m Q\n\u001b[0;32m---> <a href='vscode-notebook-cell:/Users/ratchanon/IMAGE_PROCESSING/Assignment_5/Assignment_5_1.ipynb#W6sZmlsZQ%3D%3D?line=46'>47</a>\u001b[0m         new_img[i, j] \u001b[39m=\u001b[39m [r, g, b] \u001b[39m*\u001b[39m \u001b[39m255\u001b[39m\n\u001b[1;32m     <a href='vscode-notebook-cell:/Users/ratchanon/IMAGE_PROCESSING/Assignment_5/Assignment_5_1.ipynb#W6sZmlsZQ%3D%3D?line=48'>49</a>\u001b[0m \u001b[39mreturn\u001b[39;00m new_img\n",
      "\u001b[0;31mValueError\u001b[0m: could not broadcast input array from shape (765,) into shape (3,)"
     ]
    }
   ],
   "source": [
    "# Remove the output folder if it exists\n",
    "if os.path.exists(\"output/\"):\n",
    "    os.system(\"rm -rf output/\")\n",
    "\n",
    "os.mkdir(\"output/\")\n",
    "os.mkdir(\"output/5_1\")\n",
    "\n",
    "# Read image\n",
    "fruit_path = \"img/fruit.jpg\"\n",
    "fruit = cv.imread(fruit_path, cv.IMREAD_COLOR)\n",
    "fruit_rgb = cv.cvtColor(fruit, cv.COLOR_BGR2RGB)\n",
    "\n",
    "print(\"Original image\")\n",
    "print(fruit_rgb[0, 0, :])\n",
    "\n",
    "fruit_hsi = convertRGB2HSI(fruit)\n",
    "\n",
    "fruit_rgb = convertHSI2RGB(fruit_hsi)\n",
    "\n",
    "fig, ax = plt.subplots(1, 2, figsize=(10, 10))\n",
    "ax[0].imshow(cv.cvtColor(fruit, cv.COLOR_BGR2RGB))\n",
    "ax[0].set_title(\"Original image\")\n",
    "\n",
    "ax[1].imshow(fruit_rgb)\n",
    "ax[1].set_title(\"Converted image\")\n",
    "\n",
    "plt.show()\n",
    "\n",
    "\n"
   ]
  },
  {
   "cell_type": "code",
   "execution_count": null,
   "metadata": {},
   "outputs": [],
   "source": []
  }
 ],
 "metadata": {
  "kernelspec": {
   "display_name": "py311",
   "language": "python",
   "name": "python3"
  },
  "language_info": {
   "codemirror_mode": {
    "name": "ipython",
    "version": 3
   },
   "file_extension": ".py",
   "mimetype": "text/x-python",
   "name": "python",
   "nbconvert_exporter": "python",
   "pygments_lexer": "ipython3",
   "version": "3.11.5"
  }
 },
 "nbformat": 4,
 "nbformat_minor": 2
}
