{
 "cells": [
  {
   "cell_type": "code",
   "execution_count": 9,
   "metadata": {},
   "outputs": [],
   "source": [
    "import cv2 as cv\n",
    "import numpy as np\n",
    "import matplotlib.pyplot as plt\n",
    "from mpl_toolkits.mplot3d import Axes3D\n",
    "import os"
   ]
  },
  {
   "cell_type": "markdown",
   "metadata": {},
   "source": [
    "# Utility Functions\n"
   ]
  },
  {
   "cell_type": "code",
   "execution_count": 10,
   "metadata": {},
   "outputs": [],
   "source": [
    "def spatial_to_freq(img: np.ndarray) -> np.ndarray:\n",
    "    # Calculate the 2D discrete Fourier Transform\n",
    "    f = np.fft.fft2(img)\n",
    "    # Shift the zero-frequency component to the center of the spectrum\n",
    "    fshift = np.fft.fftshift(f)\n",
    "\n",
    "    return fshift\n",
    "\n",
    "\n",
    "def freq_to_spatial(freq_img: np.ndarray) -> np.ndarray:\n",
    "    # Shift the zero-frequency component to the center of the spectrum\n",
    "    f_ishift = np.fft.ifftshift(freq_img)\n",
    "    # Calculate the 2D discrete Fourier Transform\n",
    "    img_back = np.fft.ifft2(f_ishift)\n",
    "\n",
    "    # Normalize the image\n",
    "    img_back = np.abs(img_back)\n",
    "\n",
    "    return img_back\n",
    "\n",
    "\n",
    "def calculate_magnitude_spectrum(img: np.ndarray) -> np.ndarray:\n",
    "    np.seterr(divide='ignore')\n",
    "\n",
    "    result = 20 * np.log(np.abs(img))\n",
    "    result = np.abs(result).astype(np.uint8)\n",
    "\n",
    "    return result\n",
    "\n",
    "\n",
    "def apply_mask(img: np.ndarray, mask: np.ndarray): return img * mask\n",
    "\n",
    "\n",
    "def grayscale_read(path: str) -> np.ndarray: return cv.imread(path, cv.IMREAD_GRAYSCALE)\n",
    "\n",
    "\n",
    "def plot_3D(mask: np.ndarray, title: str = \"\", folder: str = \"\"):\n",
    "    width, height = mask.shape\n",
    "\n",
    "    fig = plt.figure()\n",
    "    ax = Axes3D(fig)\n",
    "\n",
    "    fig.add_axes(ax)\n",
    "\n",
    "    X = np.arange(0, width, 1)\n",
    "    Y = np.arange(0, height, 1)\n",
    "    X, Y = np.meshgrid(X, Y)\n",
    "    Z = mask[X, Y]\n",
    "\n",
    "    ax.plot_surface(X, Y, Z, cmap='viridis')\n",
    "    fig.suptitle(title)\n",
    "    plt.savefig(f\"{folder}/{title}.png\")\n",
    "\n",
    "    ax.remove()\n",
    "    plt.close()"
   ]
  },
  {
   "cell_type": "markdown",
   "metadata": {},
   "source": [
    "# Mask Generate\n"
   ]
  },
  {
   "cell_type": "markdown",
   "metadata": {},
   "source": [
    "## Notch Filter\n"
   ]
  },
  {
   "cell_type": "code",
   "execution_count": 11,
   "metadata": {},
   "outputs": [],
   "source": [
    "def create_notch_mask(height: int, width: int, radius: int = 10, invert: bool = False) -> np.ndarray:\n",
    "    mask = np.zeros((height, width), np.uint8)\n",
    "\n",
    "    for i in range(height):\n",
    "        for j in range(width):\n",
    "            if np.sqrt((i - height / 2) ** 2 + (j - width / 2) ** 2) <= radius:\n",
    "                mask[i, j] = 1\n",
    "\n",
    "    if invert:\n",
    "        mask = 1 - mask\n",
    "\n",
    "    return mask"
   ]
  },
  {
   "cell_type": "markdown",
   "metadata": {},
   "source": [
    "## Gaussian Filter\n"
   ]
  },
  {
   "cell_type": "code",
   "execution_count": 12,
   "metadata": {},
   "outputs": [],
   "source": [
    "def create_gaussian_mask(height: int, width: int, D0: float = 10, invert: bool = False) -> np.ndarray:\n",
    "    mask = np.zeros((height, width), np.uint8)\n",
    "\n",
    "    # Change to float\n",
    "    mask = np.float32(mask)\n",
    "\n",
    "    cX, cY = width // 2, height // 2\n",
    "\n",
    "    for i in range(-cY, cY):\n",
    "        for j in range(-cX, cX):\n",
    "            distance = np.sqrt(i ** 2 + j ** 2)\n",
    "            mask[i + cY, j + cX] = np.exp(-(distance ** 2) / (2 * (D0 ** 2)))\n",
    "\n",
    "    if invert:\n",
    "        mask = 1 - mask\n",
    "\n",
    "    return mask"
   ]
  },
  {
   "cell_type": "markdown",
   "metadata": {},
   "source": [
    "## Butterworth Filter\n"
   ]
  },
  {
   "cell_type": "code",
   "execution_count": 13,
   "metadata": {},
   "outputs": [],
   "source": [
    "def create_butterworth_mask(height: int, width: int, D0: int = 10, n: int = 1, invert: bool = False) -> np.ndarray:\n",
    "    mask = np.zeros((height, width), np.uint8)\n",
    "\n",
    "    # Change to float\n",
    "    mask = np.float32(mask)\n",
    "\n",
    "    cX, cY = width // 2, height // 2\n",
    "\n",
    "    for i in range(-cY, cY):\n",
    "        for j in range(-cX, cX):\n",
    "            distance = np.sqrt(i ** 2 + j ** 2)\n",
    "            mask[i + cY, j + cX] = 1 / (1 + (distance / D0) ** (2 * n))\n",
    "\n",
    "    if invert:\n",
    "        mask = 1 - mask\n",
    "\n",
    "    return mask"
   ]
  },
  {
   "cell_type": "markdown",
   "metadata": {},
   "source": [
    "# Processing Functions\n"
   ]
  },
  {
   "cell_type": "code",
   "execution_count": 14,
   "metadata": {},
   "outputs": [],
   "source": [
    "def process(img: np.ndarray, img_name: str) -> None:\n",
    "\n",
    "    if not os.path.exists(f\"out/{img_name}\"):\n",
    "        os.makedirs(f\"out/{img_name}\")\n",
    "\n",
    "    freq_img = spatial_to_freq(img)\n",
    "    width, height = freq_img.shape\n",
    "\n",
    "    # Radius\n",
    "    radius_list = [10, 50, 100]\n",
    "\n",
    "    # Cut-off D0\n",
    "    D0_list = [10, 50, 100]\n",
    "\n",
    "    # Butterworth n\n",
    "    n_list = np.arange(1, 6, 1)\n",
    "\n",
    "    # Notch Mask\n",
    "    low_pass_notch = [{\n",
    "        \"mask\": create_notch_mask(width, height, radius),\n",
    "        \"title\": f\"LowPass r {radius}\",\n",
    "        \"type\": \"notch\"\n",
    "    } for radius in radius_list]\n",
    "\n",
    "    high_pass_notch = [{\n",
    "        \"mask\": create_notch_mask(width, height, radius, invert=True),\n",
    "        \"title\": f\"HighPass r {radius}\",\n",
    "        \"type\": \"notch\"\n",
    "    } for radius in radius_list]\n",
    "\n",
    "    # Gaussian Mask\n",
    "    low_pass_gaussian = [{\n",
    "        \"mask\": create_gaussian_mask(width, height, D0),\n",
    "        \"title\": f\"LowPass D0 {D0}\",\n",
    "        \"type\": \"gaussian\"\n",
    "    } for D0 in D0_list]\n",
    "\n",
    "    high_pass_gaussian = [{\n",
    "        \"mask\": create_gaussian_mask(width, height, D0, invert=True),\n",
    "        \"title\": f\"HighPass D0 {D0}\",\n",
    "        \"type\": \"gaussian\"\n",
    "    } for D0 in D0_list]\n",
    "\n",
    "    # Butterworth Mask\n",
    "    low_pass_butterworth = [{\n",
    "        \"mask\": create_butterworth_mask(width, height, D0, n),\n",
    "        \"title\": f\"LowPass D0 {D0} n {n}\",\n",
    "        \"type\": \"butterworth\"\n",
    "    } for D0 in D0_list for n in n_list]\n",
    "\n",
    "    high_pass_butterworth = [{\n",
    "        \"mask\": create_butterworth_mask(width, height, D0, n, invert=True),\n",
    "        \"title\": f\"HighPass D0 {D0} n {n}\",\n",
    "        \"type\": \"butterworth\"\n",
    "    } for D0 in D0_list for n in n_list]\n",
    "\n",
    "    # Concatenate all masks\n",
    "    masks = low_pass_notch + high_pass_notch + \\\n",
    "        low_pass_gaussian + high_pass_gaussian + \\\n",
    "        low_pass_butterworth + high_pass_butterworth\n",
    "\n",
    "    # Calculate the magnitude spectrum\n",
    "    magnitude_spectrum = calculate_magnitude_spectrum(freq_img)\n",
    "    plot_3D(magnitude_spectrum, title=\"Magnitude Spectrum 3D\", folder=f\"out/{img_name}\")\n",
    "\n",
    "    # Save Spectrum\n",
    "    cv.imwrite(f\"out/{img_name}/magnitude_spectrum_2D.png\", magnitude_spectrum)\n",
    "\n",
    "    img_ratio = width / height\n",
    "\n",
    "    for mask_dict in masks:\n",
    "\n",
    "        mask = mask_dict[\"mask\"]\n",
    "        title = mask_dict[\"title\"]\n",
    "        mask_type = mask_dict[\"type\"]\n",
    "\n",
    "        if not os.path.exists(f\"out/{img_name}/{mask_type}\"):\n",
    "            os.makedirs(f\"out/{img_name}/{mask_type}/mask\")\n",
    "            os.makedirs(f\"out/{img_name}/{mask_type}/result\")\n",
    "\n",
    "        plot_3D(mask, title=title, folder=f\"./out/{img_name}/{mask_type}/mask\")\n",
    "\n",
    "        result = apply_mask(freq_img, mask)\n",
    "\n",
    "        img_result = freq_to_spatial(result)\n",
    "\n",
    "        cv.imwrite(f\"out/{img_name}/{mask_type}/result/{title}.png\", img_result)\n",
    "\n",
    "        # Save Spectrum\n",
    "        magnitude_spectrum = calculate_magnitude_spectrum(result)\n",
    "\n",
    "        cv.imwrite(f\"out/{img_name}/{mask_type}/result/{title}_spectrum.png\", magnitude_spectrum)\n",
    "\n",
    "        plt.close()"
   ]
  },
  {
   "cell_type": "code",
   "execution_count": 15,
   "metadata": {},
   "outputs": [
    {
     "name": "stderr",
     "output_type": "stream",
     "text": [
      "/var/folders/08/86vvw1ld42n1h_4bcbr1pv0m0000gn/T/ipykernel_9343/99595238.py:26: RuntimeWarning: invalid value encountered in cast\n",
      "  result = np.abs(result).astype(np.uint8)\n"
     ]
    }
   ],
   "source": [
    "flower = grayscale_read('img/flower1.jpg')\n",
    "fruit = grayscale_read('img/fruit.jpg')\n",
    "horizontal_noise_img = grayscale_read('img/Noisy_flower1_horizontal.jpg')\n",
    "vertical_noise_img = grayscale_read('img/Noisy_flower1_vertical.jpg')\n",
    "\n",
    "process(fruit, \"fruit\")\n",
    "process(flower, \"flower\")\n",
    "process(horizontal_noise_img, \"horizontal_noise\")\n",
    "process(vertical_noise_img, \"vertical_noise\")"
   ]
  },
  {
   "cell_type": "markdown",
   "metadata": {},
   "source": [
    "# Image Diff\n"
   ]
  },
  {
   "cell_type": "code",
   "execution_count": 16,
   "metadata": {},
   "outputs": [
    {
     "name": "stdout",
     "output_type": "stream",
     "text": [
      "['fruit', 'flower', 'vertical_noise', 'horizontal_noise']\n"
     ]
    }
   ],
   "source": [
    "out_dir_list = os.listdir(\"out\")\n",
    "\n",
    "# Filter .DS_Store\n",
    "out_dir_list = [file for file in out_dir_list if file != \".DS_Store\"]\n",
    "\n",
    "print(out_dir_list)\n",
    "\n",
    "for out_dir in out_dir_list:\n",
    "\n",
    "    notch_result_path = f\"out/{out_dir}/notch/result\"\n",
    "    gaussian_result_path = f\"out/{out_dir}/gaussian/result\"\n",
    "\n",
    "    # Notch Result png list\n",
    "    notch_result = os.listdir(notch_result_path)\n",
    "\n",
    "    # Filter Result png list\n",
    "    notch_result = [file for file in notch_result if file.endswith(\".png\")]\n",
    "\n",
    "    gaussian_result = os.listdir(gaussian_result_path)\n",
    "\n",
    "    # Filter Result png list\n",
    "    gaussian_result = [file for file in gaussian_result if file.endswith(\".png\")]\n",
    "\n",
    "    # Sort Result png list\n",
    "    notch_result.sort()\n",
    "    gaussian_result.sort()\n",
    "\n",
    "    if not os.path.exists(f\"out/{out_dir}/diff\"):\n",
    "        os.makedirs(f\"out/{out_dir}/diff\")\n",
    "\n",
    "    # Flower Diff\n",
    "    for i in range(len(notch_result)):\n",
    "        img1 = cv.imread(f\"{notch_result_path}/{notch_result[i]}\", cv.IMREAD_GRAYSCALE)\n",
    "        img2 = cv.imread(f\"{gaussian_result_path}/{gaussian_result[i]}\", cv.IMREAD_GRAYSCALE)\n",
    "\n",
    "        diff = cv.absdiff(img1, img2)\n",
    "\n",
    "        # CLAHE (Contrast Limited Adaptive Histogram Equalization)\n",
    "        clahe = cv.createCLAHE(clipLimit=2.0, tileGridSize=(8, 8))\n",
    "        diff = clahe.apply(diff)\n",
    "\n",
    "        plt.imsave(f\"out/{out_dir}/diff/{notch_result[i]}\", diff, cmap='gray')"
   ]
  }
 ],
 "metadata": {
  "kernelspec": {
   "display_name": "py311",
   "language": "python",
   "name": "python3"
  },
  "language_info": {
   "codemirror_mode": {
    "name": "ipython",
    "version": 3
   },
   "file_extension": ".py",
   "mimetype": "text/x-python",
   "name": "python",
   "nbconvert_exporter": "python",
   "pygments_lexer": "ipython3",
   "version": "3.11.5"
  }
 },
 "nbformat": 4,
 "nbformat_minor": 2
}
